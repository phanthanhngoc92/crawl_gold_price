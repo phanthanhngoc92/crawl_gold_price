{
 "cells": [
  {
   "cell_type": "code",
   "execution_count": 1,
   "metadata": {},
   "outputs": [],
   "source": [
    "from selenium import webdriver\n",
    "from selenium.webdriver.common.by import By\n",
    "import pandas as pd\n",
    "import datetime \n"
   ]
  },
  {
   "cell_type": "code",
   "execution_count": null,
   "metadata": {},
   "outputs": [],
   "source": [
    "# open Chrome\n",
    "driver_path = r'Link WebDriver/chromedriver.exe'\n",
    "driver=webdriver.Chrome(executable_path=driver_path)"
   ]
  },
  {
   "cell_type": "code",
   "execution_count": null,
   "metadata": {},
   "outputs": [],
   "source": [
    "# truy cap trang web\n",
    "web_link = 'https://sjc.com.vn/giavang/textContent.php'\n",
    "driver.get(web_link)"
   ]
  },
  {
   "cell_type": "code",
   "execution_count": null,
   "metadata": {},
   "outputs": [],
   "source": [
    "# parse html\n",
    "div_bx1 = driver.find_element(By.CLASS_NAME,'bx1')\n",
    "div_tbody = div_bx1.find_element(By.TAG_NAME,'tbody')\n",
    "div_tbody_trs = div_tbody.find_elements(By.TAG_NAME,'tr')"
   ]
  },
  {
   "cell_type": "code",
   "execution_count": null,
   "metadata": {},
   "outputs": [],
   "source": [
    "# get data\n",
    "lst_cot_1 = []\n",
    "lst_cot_2 = []\n",
    "lst_cot_3 = []\n",
    "for idx, tr in enumerate(div_tbody_trs):\n",
    "    if idx >= 1:\n",
    "        div_tbody_tds = tr.find_elements(By.TAG_NAME,'td')\n",
    "        for ind,td in enumerate(div_tbody_tds):\n",
    "            if ind == 0 and td.text !='':\n",
    "                lst_cot_1.append(td.text.replace('\\n',' '))\n",
    "            if ind == 1 and td.text !='':\n",
    "                lst_cot_2.append(td.text.replace(',',''))\n",
    "            if ind == 2 and td.text !='':\n",
    "                lst_cot_3.append(td.text.replace(',',''))"
   ]
  },
  {
   "cell_type": "code",
   "execution_count": null,
   "metadata": {},
   "outputs": [
    {
     "data": {
      "text/plain": [
       "{'Type': ['SJC 1L, 10L',\n",
       "  'SJC 5C',\n",
       "  'SJC 2C, 1C, 5 PHÂN',\n",
       "  'VÀNG NHẪN SJC 99,99 1 CHỈ, 2 CHỈ, 5 CHỈ',\n",
       "  'VÀNG NHẪN SJC 99,99 0.5 CHỈ',\n",
       "  'NỮ TRANG 99.99%',\n",
       "  'NỮ TRANG 99%',\n",
       "  'NỮ TRANG 68%',\n",
       "  'NỮ TRANG 41.7%'],\n",
       " 'Buy_price': ['66600000',\n",
       "  '66600000',\n",
       "  '66600000',\n",
       "  '55700000',\n",
       "  '55700000',\n",
       "  '55500000',\n",
       "  '54443000',\n",
       "  '36438000',\n",
       "  '21629000'],\n",
       " 'Sell_price': ['67200000',\n",
       "  '67220000',\n",
       "  '67230000',\n",
       "  '56700000',\n",
       "  '56800000',\n",
       "  '56300000',\n",
       "  '55743000',\n",
       "  '38438000',\n",
       "  '23629000']}"
      ]
     },
     "execution_count": 57,
     "metadata": {},
     "output_type": "execute_result"
    }
   ],
   "source": [
    "# tao dictionary\n",
    "dic = {'Type': lst_cot_1, 'Buy_price': lst_cot_2, 'Sell_price': lst_cot_3}\n",
    "dic"
   ]
  },
  {
   "cell_type": "code",
   "execution_count": null,
   "metadata": {},
   "outputs": [],
   "source": [
    "# create dataframe to store data\n",
    "df = pd.DataFrame(dic)"
   ]
  },
  {
   "cell_type": "code",
   "execution_count": null,
   "metadata": {},
   "outputs": [],
   "source": [
    "current_time = datetime.datetime.now().strftime('%Y-%m-%d')\n",
    "df['withdraw_time'] = current_time"
   ]
  },
  {
   "cell_type": "code",
   "execution_count": null,
   "metadata": {},
   "outputs": [
    {
     "data": {
      "text/html": [
       "<div>\n",
       "<style scoped>\n",
       "    .dataframe tbody tr th:only-of-type {\n",
       "        vertical-align: middle;\n",
       "    }\n",
       "\n",
       "    .dataframe tbody tr th {\n",
       "        vertical-align: top;\n",
       "    }\n",
       "\n",
       "    .dataframe thead th {\n",
       "        text-align: right;\n",
       "    }\n",
       "</style>\n",
       "<table border=\"1\" class=\"dataframe\">\n",
       "  <thead>\n",
       "    <tr style=\"text-align: right;\">\n",
       "      <th></th>\n",
       "      <th>Type</th>\n",
       "      <th>Buy_price</th>\n",
       "      <th>Sell_price</th>\n",
       "      <th>withdraw_time</th>\n",
       "    </tr>\n",
       "  </thead>\n",
       "  <tbody>\n",
       "    <tr>\n",
       "      <th>0</th>\n",
       "      <td>SJC 1L, 10L</td>\n",
       "      <td>66600000</td>\n",
       "      <td>67200000</td>\n",
       "      <td>2023-04-28</td>\n",
       "    </tr>\n",
       "    <tr>\n",
       "      <th>1</th>\n",
       "      <td>SJC 5C</td>\n",
       "      <td>66600000</td>\n",
       "      <td>67220000</td>\n",
       "      <td>2023-04-28</td>\n",
       "    </tr>\n",
       "    <tr>\n",
       "      <th>2</th>\n",
       "      <td>SJC 2C, 1C, 5 PHÂN</td>\n",
       "      <td>66600000</td>\n",
       "      <td>67230000</td>\n",
       "      <td>2023-04-28</td>\n",
       "    </tr>\n",
       "    <tr>\n",
       "      <th>3</th>\n",
       "      <td>VÀNG NHẪN SJC 99,99 1 CHỈ, 2 CHỈ, 5 CHỈ</td>\n",
       "      <td>55700000</td>\n",
       "      <td>56700000</td>\n",
       "      <td>2023-04-28</td>\n",
       "    </tr>\n",
       "    <tr>\n",
       "      <th>4</th>\n",
       "      <td>VÀNG NHẪN SJC 99,99 0.5 CHỈ</td>\n",
       "      <td>55700000</td>\n",
       "      <td>56800000</td>\n",
       "      <td>2023-04-28</td>\n",
       "    </tr>\n",
       "    <tr>\n",
       "      <th>5</th>\n",
       "      <td>NỮ TRANG 99.99%</td>\n",
       "      <td>55500000</td>\n",
       "      <td>56300000</td>\n",
       "      <td>2023-04-28</td>\n",
       "    </tr>\n",
       "    <tr>\n",
       "      <th>6</th>\n",
       "      <td>NỮ TRANG 99%</td>\n",
       "      <td>54443000</td>\n",
       "      <td>55743000</td>\n",
       "      <td>2023-04-28</td>\n",
       "    </tr>\n",
       "    <tr>\n",
       "      <th>7</th>\n",
       "      <td>NỮ TRANG 68%</td>\n",
       "      <td>36438000</td>\n",
       "      <td>38438000</td>\n",
       "      <td>2023-04-28</td>\n",
       "    </tr>\n",
       "    <tr>\n",
       "      <th>8</th>\n",
       "      <td>NỮ TRANG 41.7%</td>\n",
       "      <td>21629000</td>\n",
       "      <td>23629000</td>\n",
       "      <td>2023-04-28</td>\n",
       "    </tr>\n",
       "  </tbody>\n",
       "</table>\n",
       "</div>"
      ],
      "text/plain": [
       "                                      Type Buy_price Sell_price withdraw_time\n",
       "0                              SJC 1L, 10L  66600000   67200000    2023-04-28\n",
       "1                                   SJC 5C  66600000   67220000    2023-04-28\n",
       "2                       SJC 2C, 1C, 5 PHÂN  66600000   67230000    2023-04-28\n",
       "3  VÀNG NHẪN SJC 99,99 1 CHỈ, 2 CHỈ, 5 CHỈ  55700000   56700000    2023-04-28\n",
       "4              VÀNG NHẪN SJC 99,99 0.5 CHỈ  55700000   56800000    2023-04-28\n",
       "5                          NỮ TRANG 99.99%  55500000   56300000    2023-04-28\n",
       "6                             NỮ TRANG 99%  54443000   55743000    2023-04-28\n",
       "7                             NỮ TRANG 68%  36438000   38438000    2023-04-28\n",
       "8                           NỮ TRANG 41.7%  21629000   23629000    2023-04-28"
      ]
     },
     "execution_count": 84,
     "metadata": {},
     "output_type": "execute_result"
    }
   ],
   "source": [
    "df"
   ]
  },
  {
   "cell_type": "code",
   "execution_count": null,
   "metadata": {},
   "outputs": [],
   "source": [
    "# save to local folder\n",
    "df.to_excel('Link save file/{id}.xlsx'.format(id=current_time), startrow=0, index=False)"
   ]
  },
  {
   "cell_type": "code",
   "execution_count": null,
   "metadata": {},
   "outputs": [],
   "source": [
    "# connect to GSHEET\n",
    "import pygsheets"
   ]
  },
  {
   "cell_type": "code",
   "execution_count": null,
   "metadata": {},
   "outputs": [],
   "source": [
    "## 1. Khai báo key authorize\n",
    "key_path = r'json file link'\n",
    "gc=pygsheets.authorize(service_file=key_path)\n",
    "\n",
    "## 2. Khai báo id của Gsheet & sheet cần lấy thông tin\n",
    "## Lưu ý: Gsheet cần được share cho email gserviceaccount.com (API google)\n",
    "Gsheet_key = 'Gsheet key'\n",
    "sh = gc.open_by_key(Gsheet_key)\n",
    "sheet_name = 'SJC'\n",
    "wks = sh.worksheet_by_title(sheet_name)"
   ]
  },
  {
   "cell_type": "code",
   "execution_count": null,
   "metadata": {},
   "outputs": [
    {
     "name": "stdout",
     "output_type": "stream",
     "text": [
      "18\n"
     ]
    }
   ],
   "source": [
    "# xac dinh dong cuoi cung cua data \n",
    "cells = wks.get_all_values(include_tailing_empty=False,include_tailing_empty_rows=False,returnas='matrix')\n",
    "end_row = len(cells)\n",
    "print(end_row)"
   ]
  },
  {
   "cell_type": "code",
   "execution_count": null,
   "metadata": {},
   "outputs": [],
   "source": [
    "## 3. Import data từ df to GSHEET\n",
    "#wks.clear() # xóa hết data trước khi import\n",
    "wks.set_dataframe(df,(end_row+1,1),copy_index=False,copy_head=False) "
   ]
  }
 ],
 "metadata": {
  "kernelspec": {
   "display_name": "Python 3",
   "language": "python",
   "name": "python3"
  },
  "language_info": {
   "codemirror_mode": {
    "name": "ipython",
    "version": 3
   },
   "file_extension": ".py",
   "mimetype": "text/x-python",
   "name": "python",
   "nbconvert_exporter": "python",
   "pygments_lexer": "ipython3",
   "version": "3.8.10"
  },
  "orig_nbformat": 4
 },
 "nbformat": 4,
 "nbformat_minor": 2
}
